{
 "cells": [
  {
   "cell_type": "code",
   "execution_count": 18,
   "id": "graduate-details",
   "metadata": {},
   "outputs": [],
   "source": [
    "import sounddevice as sd\n",
    "import soundfile as sf"
   ]
  },
  {
   "cell_type": "code",
   "execution_count": 19,
   "id": "declared-david",
   "metadata": {
    "scrolled": true
   },
   "outputs": [],
   "source": [
    "channels = 1\n",
    "data_type = 'float32'\n",
    "data, fs = sf.read('f2.wav', dtype='float32')\n",
    "blocksize = int(fs/10)\n",
    "total_time = len(data)/fs"
   ]
  },
  {
   "cell_type": "code",
   "execution_count": 25,
   "id": "downtown-start",
   "metadata": {},
   "outputs": [],
   "source": [
    "import argparse\n",
    "import queue\n",
    "import sys\n",
    "\n",
    "import sounddevice as sd\n",
    "import soundfile as sf\n",
    "\n",
    "\n",
    "buffersize = 10\n",
    "\n",
    "q = queue.Queue(maxsize=buffersize)\n",
    "\n",
    "\n",
    "def callback(outdata, frames, time, status):\n",
    "    if status.output_underflow:\n",
    "        print('Output underflow: increase blocksize?', file=sys.stderr)\n",
    "        raise sd.CallbackAbort\n",
    "    assert not status\n",
    "    try:\n",
    "        data = q.get_nowait()\n",
    "    except queue.Empty:\n",
    "        print('Buffer is empty: increase buffersize?', file=sys.stderr)\n",
    "        raise sd.CallbackAbort\n",
    "    if len(data) < len(outdata):\n",
    "        outdata[:len(data)] = data\n",
    "        outdata[len(data):] = b'\\x00' * (len(outdata) - len(data))\n",
    "        raise sd.CallbackStop\n",
    "    else:\n",
    "        outdata[:] = data\n",
    "\n",
    "\n",
    "try:\n",
    "    with sf.SoundFile('f2.wav') as f:\n",
    "        for _ in range(buffersize):\n",
    "            data = f.buffer_read(blocksize, dtype=data_type)\n",
    "            if not data:\n",
    "                break\n",
    "            q.put_nowait(data)  # Pre-fill queue\n",
    "        stream = sd.RawOutputStream(\n",
    "            samplerate=fs, blocksize=blocksize, type=data_type,\n",
    "            callback=callback, finished_callback=event.set)\n",
    "        with stream:\n",
    "            timeout = blocksize * buffersize / fs\n",
    "            while data:\n",
    "                data = f.buffer_read(blocksize, dtype=data_type)\n",
    "                q.put(data, timeout=timeout)\n",
    "except KeyboardInterrupt:\n",
    "    pass\n",
    "except queue.Full:\n",
    "    # A timeout occurred, i.e. there was an error in the callback\n",
    "    parser.exit(1)\n",
    "except Exception as e:\n",
    "    pass"
   ]
  },
  {
   "cell_type": "code",
   "execution_count": 16,
   "id": "southern-blind",
   "metadata": {},
   "outputs": [],
   "source": [
    "sd.play(data, fs)"
   ]
  },
  {
   "cell_type": "code",
   "execution_count": null,
   "id": "dressed-examination",
   "metadata": {},
   "outputs": [],
   "source": [
    "def callback(indata, outdata, frames, time, status):\n",
    "    if status:\n",
    "        print(status)\n",
    "\n",
    "s = sd.Stream(channels=channels,\n",
    "              callback=callback,\n",
    "              dtype=data_type,\n",
    "              blocksize=block_size,\n",
    "              samplerate=fs)\n",
    "\n",
    "with s:\n",
    "    sd.sleep(int(total_time * 1000))"
   ]
  },
  {
   "cell_type": "code",
   "execution_count": 11,
   "id": "dedicated-candy",
   "metadata": {},
   "outputs": [
    {
     "data": {
      "text/plain": [
       "11.97278911564626"
      ]
     },
     "execution_count": 11,
     "metadata": {},
     "output_type": "execute_result"
    }
   ],
   "source": [
    "data.shape[0]/44100"
   ]
  }
 ],
 "metadata": {
  "kernelspec": {
   "display_name": "Python 3",
   "language": "python",
   "name": "python3"
  },
  "language_info": {
   "codemirror_mode": {
    "name": "ipython",
    "version": 3
   },
   "file_extension": ".py",
   "mimetype": "text/x-python",
   "name": "python",
   "nbconvert_exporter": "python",
   "pygments_lexer": "ipython3",
   "version": "3.7.9"
  }
 },
 "nbformat": 4,
 "nbformat_minor": 5
}
